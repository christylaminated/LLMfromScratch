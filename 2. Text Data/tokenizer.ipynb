{
 "cells": [
  {
   "cell_type": "code",
   "execution_count": 1,
   "metadata": {},
   "outputs": [
    {
     "name": "stdout",
     "output_type": "stream",
     "text": [
      "tiktoken version: 0.9.0\n",
      "[15496, 466, 345, 588, 8887, 30, 220, 50256, 554, 262, 4252, 18250, 8812, 2114, 1659, 617, 6439, 1295]\n"
     ]
    }
   ],
   "source": [
    "#byte pair encoding\n",
    "import tiktoken \n",
    "import pandas as pd\n",
    "from importlib.metadata import version\n",
    "print(\"tiktoken version:\", version(\"tiktoken\"))\n",
    "\n",
    "#tiktoken: python library that implements the byte pair encoding algorithm\n",
    "#breaks down unknown words into knownsubwords/characters \n",
    "\n",
    "tokenizer = tiktoken.get_encoding(\"gpt2\") \n",
    "text = (\"Hello do you like tea? <|endoftext|> In the sunlit terraces\" \"of some unknown place\")\n",
    "integers = tokenizer.encode(text, allowed_special={\"<|endoftext|>\"})\n",
    "print(integers)"
   ]
  },
  {
   "cell_type": "code",
   "execution_count": 2,
   "metadata": {},
   "outputs": [
    {
     "name": "stdout",
     "output_type": "stream",
     "text": [
      "Hello do you like tea? <|endoftext|> In the sunlit terracesof some unknown place\n"
     ]
    }
   ],
   "source": [
    "#convert integers (tokenized input) back into the original input\n",
    "strings = tokenizer.decode(integers)\n",
    "print(strings)\n"
   ]
  },
  {
   "cell_type": "code",
   "execution_count": 4,
   "metadata": {},
   "outputs": [
    {
     "name": "stdout",
     "output_type": "stream",
     "text": [
      "5145\n",
      "x: [290, 4920, 2241, 287]\n",
      "y:      [4920, 2241, 287, 257]\n",
      "[290] -----> 4920\n",
      " and ---->  established\n",
      "[290, 4920] -----> 2241\n",
      " and established ---->  himself\n",
      "[290, 4920, 2241] -----> 287\n",
      " and established himself ---->  in\n",
      "[290, 4920, 2241, 287] -----> 257\n",
      " and established himself in ---->  a\n"
     ]
    }
   ],
   "source": [
    "#input target pairs using sliding window method\n",
    "#tokenize the whole \"the-verdict.txt\"\n",
    "\n",
    "with open(\"the-verdict.txt\", \"r\", encoding=\"utf-8\") as f:\n",
    "    raw_text = f.read()\n",
    "\n",
    "enc_text = tokenizer.encode(raw_text)\n",
    "print(len(enc_text))\n",
    "#length is 5145\n",
    "#only take everything after 50\n",
    "enc_sample = enc_text[50:]\n",
    "context_size = 4 #how many tokens are included in the input\n",
    "x = enc_sample[:context_size]\n",
    "y = enc_sample[1:context_size+1]\n",
    "print(f\"x: {x}\")\n",
    "print(f\"y:      {y}\")\n",
    "\n",
    "#print out the next word prediction\n",
    "for i in range(1, context_size+1):\n",
    "    context = enc_sample[:i]\n",
    "    output = enc_sample[i]\n",
    "    print(context, \"----->\", output)\n",
    "    print(tokenizer.decode(context), \"---->\", tokenizer.decode([output]))\n",
    "\n",
    "\n",
    "#these need to be tensors (multidimensional arrays): input tensor and target ouptut tensor"
   ]
  },
  {
   "cell_type": "code",
   "execution_count": 5,
   "metadata": {},
   "outputs": [],
   "source": [
    "#converting into input and output tensors\n",
    "import torch\n",
    "from torch.utils.data import Dataset, DataLoader\n",
    "\n",
    "class GPTDataset(Dataset):\n",
    "    \"\"\"An abstract class representing a :class:`Dataset`.\n",
    "\n",
    "    All datasets that represent a map from keys to data samples should subclass\n",
    "    it. All subclasses should overwrite :meth:`__getitem__`, supporting fetching a\n",
    "    data sample for a given key. Subclasses could also optionally overwrite\n",
    "    :meth:`__len__`, which is expected to return the size of the dataset by many\n",
    "    :class:`~torch.utils.data.Sampler` implementations and the default options\n",
    "    of :class:`~torch.utils.data.DataLoader`. Subclasses could also\n",
    "    optionally implement :meth:`__getitems__`, for speedup batched samples\n",
    "    loading. This method accepts list of indices of samples of batch and returns\n",
    "    list of samples.\n",
    "\n",
    "    .. note::\n",
    "      :class:`~torch.utils.data.DataLoader` by default constructs an index\n",
    "      sampler that yields integral indices.  To make it work with a map-style\n",
    "      dataset with non-integral indices/keys, a custom sampler must be provided. \"\"\"\n",
    "    def __init__(self, txt, tokenizer, max_length, stride):\n",
    "        '''\n",
    "        max_length = number of tokens per input sequence\n",
    "        stride = how much the input sequence shifts\n",
    "        '''\n",
    "        self.input_ids = []\n",
    "        self.target_ids = []\n",
    "\n",
    "        token_ids = tokenizer.encode(txt)\n",
    "\n",
    "        for i in range(0, len(token_ids) - max_length, stride): #range(start, stop, step)\n",
    "            #start at 0, stop at length of whole text, iterate with i*stride\n",
    "            input_chunk = token_ids[i:i+max_length]\n",
    "            target_chunk = token_ids[i+1:i+max_length+1]\n",
    "            self.input_ids.append(torch.tensor(input_chunk))\n",
    "            self.target_ids.append(torch.tensor(target_chunk))\n",
    "\n",
    "    def __getitem__(self, idx): \n",
    "        #for fetching a data sample for a given key\n",
    "        #returns single row for dataset\n",
    "        return self.input_ids[idx], self.target_ids[idx]\n",
    "    \n",
    "    def __len__(self):\n",
    "        #returns the total number of rows in the dataset\n",
    "        return len(self.input_ids)"
   ]
  },
  {
   "cell_type": "code",
   "execution_count": 6,
   "metadata": {},
   "outputs": [],
   "source": [
    "#a dataloader using theGPTDataset class to generate a dataset\n",
    "def create_dataloader_v1(txt, batch_size=4, max_length=256,\n",
    "                         stride=128, shuffle=True, drop_last=True,\n",
    "                         num_workers=0):\n",
    "    '''\n",
    "    dataset (Dataset): dataset from which to load the data.\n",
    "        batch_size (int, optional): how many samples per batch to load, default 1\n",
    "        shuffle (bool, optional): data reshuffled at every epoch, default False\n",
    "        num_workers (int, optional): how many subprocesses to use for data\n",
    "            loading. ``0`` means that the data will be loaded in the main process.\n",
    "            (default: ``0``)\n",
    "            #number of CPU processes to use for preprocessing\n",
    "        drop_last (bool, optional): Drop last batch if smaller than batch_size, default False\n",
    "    '''\n",
    "    tokenizer = tiktoken.get_encoding(\"gpt2\")\n",
    "    dataset = GPTDataset(txt, tokenizer, max_length, stride)\n",
    "    dataloader = DataLoader(\n",
    "        dataset=dataset, batch_size = batch_size, shuffle=shuffle, drop_last=drop_last,num_workers=num_workers\n",
    "    )\n",
    "    return dataloader\n",
    "\n"
   ]
  },
  {
   "cell_type": "code",
   "execution_count": 7,
   "metadata": {},
   "outputs": [
    {
     "name": "stdout",
     "output_type": "stream",
     "text": [
      "[tensor([[  40,  367, 2885, 1464]]), tensor([[ 367, 2885, 1464, 1807]])]\n",
      "[tensor([[ 367, 2885, 1464, 1807]]), tensor([[2885, 1464, 1807, 3619]])]\n"
     ]
    }
   ],
   "source": [
    "#testing dataloader with batch size of 1 for an LLM with a context size of 4 to develop an intuition of how GPTDataclassvV1 and create_dataloader_v1 function work together\n",
    "#small batch sizes require less memory during training but lead to more noisy model updates\n",
    "with open(\"the-verdict.txt\", \"r\", encoding=\"utf-8\") as f:\n",
    "    raw_text = f.read()\n",
    "dataloader = create_dataloader_v1(raw_text, batch_size=1, max_length=4, stride=1, shuffle=False)\n",
    "data_iter = iter(dataloader)\n",
    "first_batch = next(data_iter)\n",
    "print(first_batch)\n",
    "\n",
    "#stride=1, so second batch will have step size of 1\n",
    "second_batch = next(data_iter)\n",
    "print(second_batch)\n"
   ]
  },
  {
   "cell_type": "code",
   "execution_count": 8,
   "metadata": {},
   "outputs": [
    {
     "name": "stdout",
     "output_type": "stream",
     "text": [
      "Inputs:  tensor([[   40,   367,  2885,  1464],\n",
      "        [ 1807,  3619,   402,   271],\n",
      "        [10899,  2138,   257,  7026],\n",
      "        [15632,   438,  2016,   257],\n",
      "        [  922,  5891,  1576,   438],\n",
      "        [  568,   340,   373,   645],\n",
      "        [ 1049,  5975,   284,   502],\n",
      "        [  284,  3285,   326,    11]])\n",
      "outputs:  tensor([[  367,  2885,  1464,  1807],\n",
      "        [ 3619,   402,   271, 10899],\n",
      "        [ 2138,   257,  7026, 15632],\n",
      "        [  438,  2016,   257,   922],\n",
      "        [ 5891,  1576,   438,   568],\n",
      "        [  340,   373,   645,  1049],\n",
      "        [ 5975,   284,   502,   284],\n",
      "        [ 3285,   326,    11,   287]])\n"
     ]
    }
   ],
   "source": [
    "#lets look at an example with batch size = 8 and max length = 4\n",
    "dataloader = create_dataloader_v1(raw_text, batch_size=8, max_length=4, stride=4, shuffle=False)\n",
    "data_iter = iter(dataloader)\n",
    "inputs, targets = next(data_iter)\n",
    "print(\"Inputs: \", inputs)\n",
    "print(\"outputs: \", targets)"
   ]
  },
  {
   "cell_type": "code",
   "execution_count": 9,
   "metadata": {},
   "outputs": [
    {
     "name": "stdout",
     "output_type": "stream",
     "text": [
      "Parameter containing:\n",
      "tensor([[ 0.3374, -0.1778, -0.1690],\n",
      "        [ 0.9178,  1.5810,  1.3010],\n",
      "        [ 1.2753, -0.2010, -0.1606],\n",
      "        [-0.4015,  0.9666, -1.1481],\n",
      "        [-1.1589,  0.3255, -0.6315],\n",
      "        [-2.8400, -0.7849, -1.4096]], requires_grad=True)\n",
      "tensor([[-0.4015,  0.9666, -1.1481]], grad_fn=<EmbeddingBackward0>)\n",
      "tensor([[ 1.2753, -0.2010, -0.1606],\n",
      "        [-0.4015,  0.9666, -1.1481],\n",
      "        [-2.8400, -0.7849, -1.4096],\n",
      "        [ 0.9178,  1.5810,  1.3010]], grad_fn=<EmbeddingBackward0>)\n"
     ]
    }
   ],
   "source": [
    "#convert these token IDs into embedding vectors\n",
    "#random embedding weight matrix (length of total vocab) by (dimension of each word/token)\n",
    "#each token ID represents an index in the weight matrix which represents a row of the dimension\n",
    "#example\n",
    "input_ids = torch.tensor([2, 3, 5, 1])\n",
    "#instantiate an embedding layer in pytorch\n",
    "vocab_size = 6 #instead of 50,275 words in the bype pair encoding tokenizer vocabulary\n",
    "output_dim = 3 #each word has a row of output dim, gpt 3 has embedding size of 12,288 dimensions\n",
    "\n",
    "torch.manual_seed(123)\n",
    "embedding_layer = torch.nn.Embedding(vocab_size, output_dim)\n",
    "print(embedding_layer.weight) #weight matrix of small random values, which will be optimized during training\n",
    "\n",
    "print(embedding_layer(torch.tensor([3]))) #will be row 4 of the embedding_layer\n",
    "\n",
    "#apply it to input_ids so that it can have a corresponding weight matric\n",
    "print(embedding_layer(input_ids))"
   ]
  },
  {
   "cell_type": "code",
   "execution_count": null,
   "metadata": {},
   "outputs": [],
   "source": [
    "#problem: no order specified for the token ID\n",
    "#solution: create positional embeddings we add to the tokenIDs\n"
   ]
  }
 ],
 "metadata": {
  "kernelspec": {
   "display_name": "3.11",
   "language": "python",
   "name": "python3"
  },
  "language_info": {
   "codemirror_mode": {
    "name": "ipython",
    "version": 3
   },
   "file_extension": ".py",
   "mimetype": "text/x-python",
   "name": "python",
   "nbconvert_exporter": "python",
   "pygments_lexer": "ipython3",
   "version": "3.11.11"
  }
 },
 "nbformat": 4,
 "nbformat_minor": 2
}
